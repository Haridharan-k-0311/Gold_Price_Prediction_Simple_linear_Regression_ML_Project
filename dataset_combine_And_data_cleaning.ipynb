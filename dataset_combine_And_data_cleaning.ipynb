{
 "cells": [
  {
   "cell_type": "markdown",
   "id": "7109ec5d-d431-4f6d-b9dd-6979b049a5ed",
   "metadata": {},
   "source": [
    "# libraries"
   ]
  },
  {
   "cell_type": "code",
   "execution_count": null,
   "id": "02dea955-5351-4bb0-bf1a-30bdc3256c52",
   "metadata": {},
   "outputs": [],
   "source": [
    "import pandas as pd"
   ]
  },
  {
   "cell_type": "markdown",
   "id": "13a1502d-6ca5-4682-b05e-17fed84f1b4e",
   "metadata": {
    "jp-MarkdownHeadingCollapsed": true
   },
   "source": [
    "# Read all csv file"
   ]
  },
  {
   "cell_type": "raw",
   "id": "cd226497-0114-46d6-bb38-c2aa7a72d01e",
   "metadata": {},
   "source": [
    "gold_2017 = pd.read_csv('GOLD_PRICE_2017.csv')\n",
    "\n",
    "gold_2018 = pd.read_csv('GOLD_PRICE_2018.csv')\n",
    "\n",
    "gold_2019 = pd.read_csv('GOLD_PRICE_2019.csv')\n",
    "\n",
    "gold_2020 = pd.read_csv('GOLD_PRICE_2020.csv')\n",
    "\n",
    "gold_2021 = pd.read_csv('GOLD_PRICE_2021.csv')\n",
    "\n",
    "gold_2022 = pd.read_csv('GOLD_PRICE_2022.csv')\n",
    "\n",
    "gold_2023 = pd.read_csv('GOLD_PRICE_2023.csv')\n",
    "\n",
    "gold_2024 = pd.read_csv('GOLD_PRICE_2024.csv')\n",
    "\n",
    "gold_2025 = pd.read_csv('GOLD_PRICE_2025.csv')"
   ]
  },
  {
   "cell_type": "markdown",
   "id": "4bf74aec-d496-4ddd-85ee-8ae311c39a89",
   "metadata": {
    "jp-MarkdownHeadingCollapsed": true
   },
   "source": [
    "# Combining of two dataset as Vertical"
   ]
  },
  {
   "cell_type": "code",
   "execution_count": null,
   "id": "56acac9d-544e-4da1-92a6-aac7fd1971d1",
   "metadata": {},
   "outputs": [],
   "source": [
    "# Concatenate them along the rows (vertically)\n",
    "combined_df = pd.concat([gold_20xx, gold_20xx], ignore_index=True)"
   ]
  },
  {
   "cell_type": "code",
   "execution_count": null,
   "id": "ac2a5b18-e1f0-4562-8405-8f784109e7e8",
   "metadata": {},
   "outputs": [],
   "source": [
    "combined_df"
   ]
  },
  {
   "cell_type": "markdown",
   "id": "d04ac54a-e3a5-47fc-a6a5-71974857dd79",
   "metadata": {
    "jp-MarkdownHeadingCollapsed": true
   },
   "source": [
    "# Edit & Update row in the Exist dataset"
   ]
  },
  {
   "cell_type": "markdown",
   "id": "d5050548-014b-4c11-9e7f-438cc73398cc",
   "metadata": {},
   "source": [
    "## ADD the New Row on the Existing Dataset"
   ]
  },
  {
   "cell_type": "code",
   "execution_count": null,
   "id": "6e5c6bc6-6e54-4694-b775-fd61841164c0",
   "metadata": {},
   "outputs": [],
   "source": [
    "df = pd.read_csv('dataset.csv')"
   ]
  },
  {
   "cell_type": "code",
   "execution_count": null,
   "id": "01e0d375-4cf4-44f9-a5e0-e6f2cdce3e93",
   "metadata": {},
   "outputs": [],
   "source": [
    "# Create the new row\n",
    "new_row = {\n",
    "    'DATE': '2025-01-01',\n",
    "    'CLOSE PRICE': 85.78569793701172,\n",
    "    'HIGH': 86.03399658203125,\n",
    "    'LOW': 85.5739974975586,\n",
    "    'OPEN PRICE': 85.78569793701172\n",
    "}\n"
   ]
  },
  {
   "cell_type": "code",
   "execution_count": null,
   "id": "34476b4a-0dc8-459e-9f38-baff425dd5bc",
   "metadata": {},
   "outputs": [],
   "source": [
    "# Convert the dictionary to a DataFrame\n",
    "new_row_df = pd.DataFrame([new_row])\n",
    "\n",
    "# Find the index of '2017-07-10' (the last row with this date)\n",
    "index_2024_12_31 = df[df['DATE'] == '2024-12-31'].index[0]\n",
    "\n",
    "# Insert the new row after the '2017-07-10' row\n",
    "df = pd.concat([df.iloc[:index_2024_12_31 + 1], new_row_df, df.iloc[index_2024_12_31 + 1:]], ignore_index=True)\n",
    "\n",
    "# Save the updated DataFrame to a new CSV file\n",
    "df.to_csv('updated_dataset.csv', index=False)\n",
    "\n",
    "print(\"Row for 2025-01-01 added successfully!\")"
   ]
  },
  {
   "cell_type": "markdown",
   "id": "2d778e01-e2ff-4d26-9074-7506ae0db5cd",
   "metadata": {},
   "source": [
    "## remove the exist row in the dataset"
   ]
  },
  {
   "cell_type": "code",
   "execution_count": null,
   "id": "544e564a-497b-4f19-b2f1-05049a208d07",
   "metadata": {},
   "outputs": [],
   "source": [
    "# Remove the row where DATE is '2025-02-08'\n",
    "df = df[df['DATE'] != '2025-02-08']\n",
    "\n",
    "# Save the updated DataFrame to a new CSV file\n",
    "df.to_csv('updated_dataset.csv', index=False)\n",
    "\n",
    "print(\"Row for 2025-02-08 removed successfully!\")"
   ]
  },
  {
   "cell_type": "markdown",
   "id": "8de05427-6e00-458c-841d-4612dfed21be",
   "metadata": {
    "jp-MarkdownHeadingCollapsed": true
   },
   "source": [
    "# Update the changes to exist dataset or create a updated dataset"
   ]
  },
  {
   "cell_type": "code",
   "execution_count": null,
   "id": "fecc939b-a081-4aa8-b5ec-883da1138ac0",
   "metadata": {},
   "outputs": [],
   "source": [
    "# Save the combined dataset to a new CSV file\n",
    "combineddf.to_csv('path of the dataset.csv', index=False)"
   ]
  },
  {
   "cell_type": "markdown",
   "id": "393b6dd1-766d-4d82-9efe-20e309ab56b5",
   "metadata": {},
   "source": [
    "# Combine the two dataset as Horizontal"
   ]
  },
  {
   "cell_type": "raw",
   "id": "42623d8c-e4eb-4dfd-b7d6-31185429f49e",
   "metadata": {},
   "source": [
    "gold_price = pd.read_csv('GOLD_PRICE_2017_TO_2025.CSV')"
   ]
  },
  {
   "cell_type": "code",
   "execution_count": null,
   "id": "35fb4be9-bff6-4ded-b8f0-1c0d911b0a92",
   "metadata": {},
   "outputs": [],
   "source": [
    "gold_price.head()"
   ]
  },
  {
   "cell_type": "code",
   "execution_count": null,
   "id": "f6613008-e70b-4f51-adbf-9941d804489c",
   "metadata": {},
   "outputs": [],
   "source": [
    "up_gold_price = gold_price.drop(columns=['Date'])"
   ]
  },
  {
   "cell_type": "code",
   "execution_count": null,
   "id": "5838aceb-249c-4008-b8e3-eb62838f74b2",
   "metadata": {},
   "outputs": [],
   "source": [
    "up_gold_price.head()"
   ]
  },
  {
   "cell_type": "code",
   "execution_count": null,
   "id": "a1fec0b5-0295-423c-880d-3fde7a84e584",
   "metadata": {},
   "outputs": [],
   "source": [
    "up_gold_price.info()"
   ]
  },
  {
   "cell_type": "raw",
   "id": "d0d10974-f357-4df8-97bb-544329386b18",
   "metadata": {},
   "source": [
    "usd_inr = pd.read_csv('USD_INR_2017_2025.csv')"
   ]
  },
  {
   "cell_type": "code",
   "execution_count": null,
   "id": "92b2c439-798f-48f4-bf4f-8f36bb48048a",
   "metadata": {},
   "outputs": [],
   "source": [
    "usd_inr.info()"
   ]
  },
  {
   "cell_type": "code",
   "execution_count": null,
   "id": "fd11be36-ef81-4ba0-9673-e3638bc86970",
   "metadata": {},
   "outputs": [],
   "source": [
    "usd_inr.head()"
   ]
  },
  {
   "cell_type": "code",
   "execution_count": null,
   "id": "d55139ee-cb50-4ec9-80ec-a94920b5dcfe",
   "metadata": {},
   "outputs": [],
   "source": [
    "# Combine the two elements dataset to a new CSV file\n",
    "comdined_df = pd.concat([usd_inr, up_gold_price], axis=1)"
   ]
  },
  {
   "cell_type": "code",
   "execution_count": null,
   "id": "17f0c003-c5d6-4b6d-9c1c-b03c650b8c1d",
   "metadata": {},
   "outputs": [],
   "source": [
    "comdined_df.info()"
   ]
  },
  {
   "cell_type": "code",
   "execution_count": null,
   "id": "b4c3ff3a-cc49-4938-b102-343bcb837acf",
   "metadata": {},
   "outputs": [],
   "source": [
    "comdined_df.head()"
   ]
  },
  {
   "cell_type": "raw",
   "id": "ed8d532e-ab6e-4dd0-be69-dcb159bdfea9",
   "metadata": {},
   "source": [
    "comdined_df.to_csv('gold_price_with_usdinr_2017_to_25.csv', index=False)"
   ]
  },
  {
   "cell_type": "code",
   "execution_count": null,
   "id": "94ea6178-3ec7-41bd-ac99-8bcc1711896e",
   "metadata": {},
   "outputs": [],
   "source": []
  }
 ],
 "metadata": {
  "kernelspec": {
   "display_name": "Python 3 (ipykernel)",
   "language": "python",
   "name": "python3"
  },
  "language_info": {
   "codemirror_mode": {
    "name": "ipython",
    "version": 3
   },
   "file_extension": ".py",
   "mimetype": "text/x-python",
   "name": "python",
   "nbconvert_exporter": "python",
   "pygments_lexer": "ipython3",
   "version": "3.11.7"
  }
 },
 "nbformat": 4,
 "nbformat_minor": 5
}
